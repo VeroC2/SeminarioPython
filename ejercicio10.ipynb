{
 "cells": [
  {
   "cell_type": "markdown",
   "id": "160006bd",
   "metadata": {
    "slideshow": {
     "slide_type": "slide"
    }
   },
   "source": [
    "<font color='purple'><em>Cao Verónica, legajo 20219/2</em></font>\n",
    "___"
   ]
  },
  {
   "cell_type": "markdown",
   "id": "499b2831",
   "metadata": {
    "slideshow": {
     "slide_type": "-"
    }
   },
   "source": [
    "# Seminario de Lenguajes - Python 2022\n",
    "## Resolución TP 2 -  Ejercicio 10"
   ]
  },
  {
   "cell_type": "markdown",
   "id": "f13d6378",
   "metadata": {
    "slideshow": {
     "slide_type": "slide"
    }
   },
   "source": [
    "### 1. Manejo de archivos y obtención de datos"
   ]
  },
  {
   "cell_type": "markdown",
   "id": "c3da66de",
   "metadata": {
    "slideshow": {
     "slide_type": "subslide"
    }
   },
   "source": [
    "1.1. Para comenzar defino las rutas de los archivos que voy a utilizar.  \n",
    "Utilizando los métodos del módulo importado `os` la ruta se define de acuerdo a la carpeta actual de trabajo."
   ]
  },
  {
   "cell_type": "code",
   "execution_count": null,
   "id": "3295407f",
   "metadata": {
    "slideshow": {
     "slide_type": "fragment"
    }
   },
   "outputs": [],
   "source": [
    "import os\n",
    "\n",
    "ruta_archivos = 'Archivos'\n",
    "ruta_abs = os.path.join(os.getcwd(), ruta_archivos)\n",
    "ruta_arch_nombres = os.path.join(ruta_abs, 'nombres_1.txt')\n",
    "ruta_arch_eval1 = os.path.join(ruta_abs, 'eval1.txt')\n",
    "ruta_arch_eval2 = os.path.join(ruta_abs, 'eval2.txt')"
   ]
  },
  {
   "cell_type": "markdown",
   "id": "5e79c1f0",
   "metadata": {
    "slideshow": {
     "slide_type": "subslide"
    }
   },
   "source": [
    "1.2. Utilizo `with` para abrir los archivos, pasar el contenido de cada uno a una variable y cerrarlos."
   ]
  },
  {
   "cell_type": "code",
   "execution_count": null,
   "id": "3cb3cd8f",
   "metadata": {
    "slideshow": {
     "slide_type": "fragment"
    }
   },
   "outputs": [],
   "source": [
    "with open (ruta_arch_nombres, encoding='UTF-8') as arch_nombres:\n",
    "    nombres = arch_nombres.read()\n",
    "with open (ruta_arch_eval1, encoding='UTF-8') as arch_eval1:\n",
    "    evaluaciones_1 = arch_eval1.read()\n",
    "with open (ruta_arch_eval2, encoding='UTF-8') as arch_eval2:\n",
    "    evaluaciones_2 = arch_eval2.read()"
   ]
  },
  {
   "cell_type": "markdown",
   "id": "acd85770",
   "metadata": {
    "slideshow": {
     "slide_type": "subslide"
    }
   },
   "source": [
    "1.3. Hago ajustes al contenido de los archivos para obtener los datos separados y sin símbolos."
   ]
  },
  {
   "cell_type": "code",
   "execution_count": null,
   "id": "5dcd6456",
   "metadata": {
    "slideshow": {
     "slide_type": "fragment"
    }
   },
   "outputs": [],
   "source": [
    "nombres = nombres.replace(',','').replace(\"'\",'').split()\n",
    "evaluaciones_1 = evaluaciones_1.replace(',','').split()\n",
    "evaluaciones_2 = evaluaciones_2.replace(',','').split()\n",
    "\n",
    "print(nombres)\n",
    "print(evaluaciones_1)\n",
    "print(evaluaciones_2)"
   ]
  },
  {
   "cell_type": "markdown",
   "id": "0de49c5c",
   "metadata": {
    "slideshow": {
     "slide_type": "slide"
    }
   },
   "source": [
    "### 2. Operaciones con los datos para resolver el ejercicio"
   ]
  },
  {
   "cell_type": "markdown",
   "id": "cf45bcd6",
   "metadata": {
    "slideshow": {
     "slide_type": "subslide"
    }
   },
   "source": [
    "2.1. En una función genero, a partir de los datos de los archivos, un diccionario que contenga como claves los nombres y como valores las notas totales de los alumnos."
   ]
  },
  {
   "cell_type": "markdown",
   "id": "729b8cdc",
   "metadata": {
    "slideshow": {
     "slide_type": "fragment"
    }
   },
   "source": [
    "- Si las claves no se repitieran podría generar el diccionario de la siguiente forma: "
   ]
  },
  {
   "cell_type": "code",
   "execution_count": null,
   "id": "9ed0d783",
   "metadata": {
    "slideshow": {
     "slide_type": "fragment"
    }
   },
   "outputs": [],
   "source": [
    "def generar_diccionario(nombres, evaluaciones_1, evaluaciones_2):\n",
    "    \"\"\"Devolver los pares nombre y nota total en una estructura de tipo diccionario.\"\"\"\n",
    "    alumnos_sin_rep = {nombre: int(nota1) + int(nota2) for nombre, nota1, nota2 in zip(nombres, evaluaciones_1, evaluaciones_2)}\n",
    "    return alumnos_sin_rep"
   ]
  },
  {
   "cell_type": "markdown",
   "id": "6ae03b23",
   "metadata": {
    "slideshow": {
     "slide_type": "subslide"
    }
   },
   "source": [
    "- En este caso, para asegurarme de que las claves sean únicas, agrego numeración a los nombres con más de una ocurrencia."
   ]
  },
  {
   "cell_type": "code",
   "execution_count": null,
   "id": "87cb2fcf",
   "metadata": {
    "slideshow": {
     "slide_type": "fragment"
    }
   },
   "outputs": [],
   "source": [
    "def generar_diccionario(nombres, evaluaciones_1, evaluaciones_2):\n",
    "    \"\"\"Devolver los pares nombre y nota total en una estructura de tipo diccionario.\"\"\"\n",
    "    alumnos = {}\n",
    "    for elem in range(len(nombres)):\n",
    "        num = 2\n",
    "        nombre_evaluado = nombres[elem].upper()\n",
    "        while nombre_evaluado in alumnos:\n",
    "            nombre_evaluado = nombres[elem] + str(num)\n",
    "            num += 1\n",
    "        alumnos[nombre_evaluado] = int(evaluaciones_1[elem]) + int(evaluaciones_2[elem])\n",
    "    return alumnos\n",
    "\n",
    "alumnos = generar_diccionario(nombres, evaluaciones_1, evaluaciones_2)\n",
    "print(alumnos)"
   ]
  },
  {
   "cell_type": "markdown",
   "id": "91f22dc6",
   "metadata": {
    "slideshow": {
     "slide_type": "subslide"
    }
   },
   "source": [
    "2.2. En otra función que recibe las notas totales de los alumnos, calculo el promedio de las mismas. "
   ]
  },
  {
   "cell_type": "code",
   "execution_count": null,
   "id": "965bc77a",
   "metadata": {
    "slideshow": {
     "slide_type": "fragment"
    }
   },
   "outputs": [],
   "source": [
    "def calcular_promedio(valores):\n",
    "    \"\"\"Devolver el valor promedio entre los valores del parámetro.\"\"\"\n",
    "    promedio = sum(valores) / len(valores)\n",
    "    return promedio\n",
    "\n",
    "promedio = calcular_promedio(alumnos.values())\n",
    "promedio"
   ]
  },
  {
   "cell_type": "markdown",
   "id": "6ae73a41",
   "metadata": {
    "slideshow": {
     "slide_type": "subslide"
    }
   },
   "source": [
    "2.3. Finalmente informo aquellos alumnos cuya nota es menor al promedio."
   ]
  },
  {
   "cell_type": "code",
   "execution_count": null,
   "id": "569d849b",
   "metadata": {
    "scrolled": true,
    "slideshow": {
     "slide_type": "fragment"
    }
   },
   "outputs": [],
   "source": [
    "def alumnos_debajo_promedio(alumnos, promedio):\n",
    "    \"\"\"Imprimir los pares alumno nota si la nota es menor al promedio.\"\"\"\n",
    "    print('Alumnos con nota total menor al promedio:')\n",
    "    for item in alumnos.items():\n",
    "        print(f'Nombre: {item[0]}. Nota: {item[1]}') if item[1] < promedio else ''\n",
    "\n",
    "alumnos_debajo_promedio(alumnos, promedio)"
   ]
  }
 ],
 "metadata": {
  "celltoolbar": "Slideshow",
  "kernelspec": {
   "display_name": "Python 3 (ipykernel)",
   "language": "python",
   "name": "python3"
  },
  "language_info": {
   "codemirror_mode": {
    "name": "ipython",
    "version": 3
   },
   "file_extension": ".py",
   "mimetype": "text/x-python",
   "name": "python",
   "nbconvert_exporter": "python",
   "pygments_lexer": "ipython3",
   "version": "3.10.2"
  }
 },
 "nbformat": 4,
 "nbformat_minor": 5
}
